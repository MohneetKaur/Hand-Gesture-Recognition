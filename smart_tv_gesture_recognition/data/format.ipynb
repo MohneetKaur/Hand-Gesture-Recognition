{
 "cells": [
  {
   "cell_type": "code",
   "execution_count": 2,
   "metadata": {},
   "outputs": [
    {
     "name": "stdout",
     "output_type": "stream",
     "text": [
      "Files have been organized into the new structure.\n"
     ]
    }
   ],
   "source": [
    "import os\n",
    "import shutil\n",
    "\n",
    "# Define source directories and target directories\n",
    "base_path = r\"C:\\Users\\HP\\Documents\\projects\\Hand Gesture Recognition System\\smart_tv_gesture_recognition\\data\\raw\"\n",
    "source_train = os.path.join(base_path, \"train\")\n",
    "source_val = os.path.join(base_path, \"val\")\n",
    "\n",
    "# Define target directories\n",
    "target_folders = ['train', 'val']\n",
    "gestures = [\"right swipe\", \"left swipe\", \"stop gesture\", \"thumbs down\", \"thumbs up\"]\n",
    "\n",
    "# Create the directory structure if not exists\n",
    "for folder in target_folders:\n",
    "    for gesture in gestures:\n",
    "        os.makedirs(os.path.join(base_path, folder, gesture.replace(\" \", \"_\")), exist_ok=True)\n",
    "\n",
    "# Function to determine gesture type based on filename\n",
    "def get_gesture_type(filename):\n",
    "    filename_lower = filename.lower()\n",
    "    if \"right swipe\" in filename_lower:\n",
    "        return \"right_swipe\"\n",
    "    elif \"left swipe\" in filename_lower:\n",
    "        return \"left_swipe\"\n",
    "    elif \"stop gesture\" in filename_lower:\n",
    "        return \"stop_gesture\"\n",
    "    elif \"thumbs down\" in filename_lower:\n",
    "        return \"thumbs_down\"\n",
    "    elif \"thumbs up\" in filename_lower:\n",
    "        return \"thumbs_up\"\n",
    "    return None\n",
    "\n",
    "# Function to move files to the appropriate folder\n",
    "def move_files(source_folder, target_folder):\n",
    "    for item in os.listdir(source_folder):\n",
    "        item_path = os.path.join(source_folder, item)\n",
    "        if os.path.isdir(item_path):  # If item is a folder\n",
    "            gesture_type = get_gesture_type(item)\n",
    "            if gesture_type:\n",
    "                target_path = os.path.join(base_path, target_folder, gesture_type)\n",
    "                for file in os.listdir(item_path):\n",
    "                    source_file_path = os.path.join(item_path, file)\n",
    "                    if os.path.isfile(source_file_path):\n",
    "                        shutil.move(source_file_path, target_path)\n",
    "\n",
    "# Move files from original train and val folders to the new structure\n",
    "move_files(source_train, \"train\")\n",
    "move_files(source_val, \"val\")\n",
    "\n",
    "print(\"Files have been organized into the new structure.\")\n"
   ]
  },
  {
   "cell_type": "code",
   "execution_count": null,
   "metadata": {},
   "outputs": [],
   "source": []
  },
  {
   "cell_type": "code",
   "execution_count": null,
   "metadata": {},
   "outputs": [],
   "source": []
  }
 ],
 "metadata": {
  "kernelspec": {
   "display_name": "Python 3",
   "language": "python",
   "name": "python3"
  },
  "language_info": {
   "codemirror_mode": {
    "name": "ipython",
    "version": 3
   },
   "file_extension": ".py",
   "mimetype": "text/x-python",
   "name": "python",
   "nbconvert_exporter": "python",
   "pygments_lexer": "ipython3",
   "version": "3.10.12"
  }
 },
 "nbformat": 4,
 "nbformat_minor": 2
}
